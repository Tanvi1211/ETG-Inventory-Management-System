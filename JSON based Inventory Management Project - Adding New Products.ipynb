{
 "cells": [
  {
   "cell_type": "code",
   "execution_count": 13,
   "id": "ad6bee10",
   "metadata": {},
   "outputs": [],
   "source": [
    "import json\n",
    "\n",
    "products= {1001: {\"name\": \"Chips\", \"price\": 30, \"quantity\": 500},\n",
    "           1002: {\"name\": \"Chocolate\", \"price\": 80, \"quantity\": 310},\n",
    "           1003: {\"name\": \"Cake\", \"price\": 400, \"quantity\": 100},\n",
    "           1004: {\"name\": \"Soap\", \"price\": 50, \"quantity\": 920},\n",
    "           1005: {\"name\": \"Hair Oil\", \"price\": 120, \"quantity\": 125},\n",
    "           1006: {\"name\": \"Candy\", \"price\": 20, \"quantity\": 1020},\n",
    "           1007: {\"name\": \"Drink\", \"price\": 65, \"quantity\": 885},\n",
    "           1008: {\"name\": \"Pen\", \"price\": 10, \"quantity\": 1900},\n",
    "           1009: {\"name\": \"Monitor\", \"price\": 4500, \"quantity\": 150},\n",
    "           1010: {\"name\": \"Phone\", \"price\": 35000, \"quantity\": 60},\n",
    "           1011: {\"name\": \"Airpods\", \"price\": 12399, \"quantity\": 98},\n",
    "           1012: {\"name\": \"Keyboard\", \"price\": 699, \"quantity\": 20},\n",
    "           1013: {\"name\": \"Bag\", \"price\": 420, \"quantity\": 710},\n",
    "           1014: {\"name\": \"Bottle\", \"price\": 105, \"quantity\": 965},\n",
    "           1015: {\"name\": \"Charger\", \"price\": 95, \"quantity\": 230},\n",
    "           1016: {\"name\": \"Table Calendar\", \"price\": 49, \"quantity\": 545},\n",
    "           1017: {\"name\": \"Smart Watch\", \"price\": 3780, \"quantity\": 46},\n",
    "           1018: {\"name\": \"Face Cream\", \"price\": 299, \"quantity\": 104},\n",
    "           1019: {\"name\": \"Sponge\", \"price\": 79, \"quantity\": 354},\n",
    "           1020: {\"name\": \"Makeup Kit\", \"price\": 810, \"quantity\": 22},\n",
    "           1021: {\"name\": \"Shoes\", \"price\": 2899, \"quantity\": 70},\n",
    "           1022: {\"name\": \"Shirt\", \"price\": 570, \"quantity\": 400},\n",
    "           1023: {\"name\": \"Bracelet\", \"price\": 119, \"quantity\": 900},\n",
    "           1024: {\"name\": \"Hair Brush\", \"price\": 260, \"quantity\": 500},\n",
    "           1025: {\"name\": \"Coffee Mug\", \"price\": 185, \"quantity\": 175},\n",
    "           1026: {\"name\": \"Air Conditioner\", \"price\": 42500, \"quantity\": 6},\n",
    "           1027: {\"name\": \"Washing Machine\", \"price\": 15899, \"quantity\": 3},\n",
    "           1028: {\"name\": \"Pillow\", \"price\": 975, \"quantity\": 87},\n",
    "           1029: {\"name\": \"Curtains\", \"price\": 1199, \"quantity\": 255},\n",
    "           1030: {\"name\": \"Bed Sheet\", \"price\": 320, \"quantity\": 300}}\n",
    "\n",
    "\n",
    "js = json.dumps(products)\n",
    "\n",
    "fd = open(\"products.json\", 'w')\n",
    "fd.write(js)\n",
    "fd.close()"
   ]
  },
  {
   "cell_type": "markdown",
   "id": "268d56d2",
   "metadata": {},
   "source": [
    "# Read Data from JSON"
   ]
  },
  {
   "cell_type": "code",
   "execution_count": 14,
   "id": "fe7aa552",
   "metadata": {},
   "outputs": [],
   "source": [
    "fd = open(\"products.json\",'r')\n",
    "r = fd.read()\n",
    "fd.close()\n",
    "\n",
    "products = json.loads(r)"
   ]
  },
  {
   "cell_type": "code",
   "execution_count": 15,
   "id": "e2565e9f",
   "metadata": {},
   "outputs": [
    {
     "data": {
      "text/plain": [
       "{'1001': {'name': 'Chips', 'price': 30, 'quantity': 500},\n",
       " '1002': {'name': 'Chocolate', 'price': 80, 'quantity': 310},\n",
       " '1003': {'name': 'Cake', 'price': 400, 'quantity': 100},\n",
       " '1004': {'name': 'Soap', 'price': 50, 'quantity': 920},\n",
       " '1005': {'name': 'Hair Oil', 'price': 120, 'quantity': 125},\n",
       " '1006': {'name': 'Candy', 'price': 20, 'quantity': 1020},\n",
       " '1007': {'name': 'Drink', 'price': 65, 'quantity': 885},\n",
       " '1008': {'name': 'Pen', 'price': 10, 'quantity': 1900},\n",
       " '1009': {'name': 'Monitor', 'price': 4500, 'quantity': 150},\n",
       " '1010': {'name': 'Phone', 'price': 35000, 'quantity': 60},\n",
       " '1011': {'name': 'Airpods', 'price': 12399, 'quantity': 98},\n",
       " '1012': {'name': 'Keyboard', 'price': 699, 'quantity': 20},\n",
       " '1013': {'name': 'Bag', 'price': 420, 'quantity': 710},\n",
       " '1014': {'name': 'Bottle', 'price': 105, 'quantity': 965},\n",
       " '1015': {'name': 'Charger', 'price': 95, 'quantity': 230},\n",
       " '1016': {'name': 'Table Calendar', 'price': 49, 'quantity': 545},\n",
       " '1017': {'name': 'Smart Watch', 'price': 3780, 'quantity': 46},\n",
       " '1018': {'name': 'Face Cream', 'price': 299, 'quantity': 104},\n",
       " '1019': {'name': 'Sponge', 'price': 79, 'quantity': 354},\n",
       " '1020': {'name': 'Makeup Kit', 'price': 810, 'quantity': 22},\n",
       " '1021': {'name': 'Shoes', 'price': 2899, 'quantity': 70},\n",
       " '1022': {'name': 'Shirt', 'price': 570, 'quantity': 400},\n",
       " '1023': {'name': 'Bracelet', 'price': 119, 'quantity': 900},\n",
       " '1024': {'name': 'Hair Brush', 'price': 260, 'quantity': 500},\n",
       " '1025': {'name': 'Coffee Mug', 'price': 185, 'quantity': 175},\n",
       " '1026': {'name': 'Air Conditioner', 'price': 42500, 'quantity': 6},\n",
       " '1027': {'name': 'Washing Machine', 'price': 15899, 'quantity': 3},\n",
       " '1028': {'name': 'Pillow', 'price': 975, 'quantity': 87},\n",
       " '1029': {'name': 'Curtains', 'price': 1199, 'quantity': 255},\n",
       " '1030': {'name': 'Bed Sheet', 'price': 320, 'quantity': 300}}"
      ]
     },
     "execution_count": 15,
     "metadata": {},
     "output_type": "execute_result"
    }
   ],
   "source": [
    "products"
   ]
  },
  {
   "cell_type": "markdown",
   "id": "8c98603a",
   "metadata": {},
   "source": [
    "# Adding New Items into Inventory"
   ]
  },
  {
   "cell_type": "code",
   "execution_count": 16,
   "id": "137d269f",
   "metadata": {},
   "outputs": [
    {
     "name": "stdout",
     "output_type": "stream",
     "text": [
      "Enter product id:1031\n",
      "Enter name of product:Novel\n",
      "Enter price of product:529\n",
      "Enter quantity of product:91\n"
     ]
    }
   ],
   "source": [
    "product_id = input(\"Enter product id:\")\n",
    "name = input(\"Enter name of product:\")\n",
    "price = int(input(\"Enter price of product:\"))\n",
    "quantity = int(input(\"Enter quantity of product:\"))\n",
    "\n",
    "products[product_id] = {'name': name, 'price': price, 'quantity': quantity}\n",
    "\n",
    "js = json.dumps(products)\n",
    "\n",
    "fd = open(\"products.json\",'w')\n",
    "fd.write(js)\n",
    "fd.close()"
   ]
  },
  {
   "cell_type": "code",
   "execution_count": 17,
   "id": "5a4ef482",
   "metadata": {},
   "outputs": [
    {
     "name": "stdout",
     "output_type": "stream",
     "text": [
      "Enter product id:1032\n",
      "Enter name of product:Spoon\n",
      "Enter price of product:75\n",
      "Enter quantity of product:220\n"
     ]
    }
   ],
   "source": [
    "product_id = input(\"Enter product id:\")\n",
    "name = input(\"Enter name of product:\")\n",
    "price = int(input(\"Enter price of product:\"))\n",
    "quantity = int(input(\"Enter quantity of product:\"))\n",
    "\n",
    "products[product_id] = {'name': name, 'price': price, 'quantity': quantity}\n",
    "\n",
    "js = json.dumps(products)\n",
    "\n",
    "fd = open(\"products.json\",'w')\n",
    "fd.write(js)\n",
    "fd.close()"
   ]
  },
  {
   "cell_type": "code",
   "execution_count": 18,
   "id": "b2711fbd",
   "metadata": {},
   "outputs": [
    {
     "data": {
      "text/plain": [
       "{'1001': {'name': 'Chips', 'price': 30, 'quantity': 500},\n",
       " '1002': {'name': 'Chocolate', 'price': 80, 'quantity': 310},\n",
       " '1003': {'name': 'Cake', 'price': 400, 'quantity': 100},\n",
       " '1004': {'name': 'Soap', 'price': 50, 'quantity': 920},\n",
       " '1005': {'name': 'Hair Oil', 'price': 120, 'quantity': 125},\n",
       " '1006': {'name': 'Candy', 'price': 20, 'quantity': 1020},\n",
       " '1007': {'name': 'Drink', 'price': 65, 'quantity': 885},\n",
       " '1008': {'name': 'Pen', 'price': 10, 'quantity': 1900},\n",
       " '1009': {'name': 'Monitor', 'price': 4500, 'quantity': 150},\n",
       " '1010': {'name': 'Phone', 'price': 35000, 'quantity': 60},\n",
       " '1011': {'name': 'Airpods', 'price': 12399, 'quantity': 98},\n",
       " '1012': {'name': 'Keyboard', 'price': 699, 'quantity': 20},\n",
       " '1013': {'name': 'Bag', 'price': 420, 'quantity': 710},\n",
       " '1014': {'name': 'Bottle', 'price': 105, 'quantity': 965},\n",
       " '1015': {'name': 'Charger', 'price': 95, 'quantity': 230},\n",
       " '1016': {'name': 'Table Calendar', 'price': 49, 'quantity': 545},\n",
       " '1017': {'name': 'Smart Watch', 'price': 3780, 'quantity': 46},\n",
       " '1018': {'name': 'Face Cream', 'price': 299, 'quantity': 104},\n",
       " '1019': {'name': 'Sponge', 'price': 79, 'quantity': 354},\n",
       " '1020': {'name': 'Makeup Kit', 'price': 810, 'quantity': 22},\n",
       " '1021': {'name': 'Shoes', 'price': 2899, 'quantity': 70},\n",
       " '1022': {'name': 'Shirt', 'price': 570, 'quantity': 400},\n",
       " '1023': {'name': 'Bracelet', 'price': 119, 'quantity': 900},\n",
       " '1024': {'name': 'Hair Brush', 'price': 260, 'quantity': 500},\n",
       " '1025': {'name': 'Coffee Mug', 'price': 185, 'quantity': 175},\n",
       " '1026': {'name': 'Air Conditioner', 'price': 42500, 'quantity': 6},\n",
       " '1027': {'name': 'Washing Machine', 'price': 15899, 'quantity': 3},\n",
       " '1028': {'name': 'Pillow', 'price': 975, 'quantity': 87},\n",
       " '1029': {'name': 'Curtains', 'price': 1199, 'quantity': 255},\n",
       " '1030': {'name': 'Bed Sheet', 'price': 320, 'quantity': 300},\n",
       " '1031': {'name': 'Novel', 'price': 529, 'quantity': 91},\n",
       " '1032': {'name': 'Spoon', 'price': 75, 'quantity': 220}}"
      ]
     },
     "execution_count": 18,
     "metadata": {},
     "output_type": "execute_result"
    }
   ],
   "source": [
    "products"
   ]
  },
  {
   "cell_type": "markdown",
   "id": "5588dc87",
   "metadata": {},
   "source": [
    "# Deleting Item from Inventory"
   ]
  },
  {
   "cell_type": "code",
   "execution_count": 19,
   "id": "b11e34f3",
   "metadata": {},
   "outputs": [],
   "source": [
    "del products['1016']"
   ]
  },
  {
   "cell_type": "code",
   "execution_count": 20,
   "id": "3c37ef97",
   "metadata": {},
   "outputs": [
    {
     "data": {
      "text/plain": [
       "{'1001': {'name': 'Chips', 'price': 30, 'quantity': 500},\n",
       " '1002': {'name': 'Chocolate', 'price': 80, 'quantity': 310},\n",
       " '1003': {'name': 'Cake', 'price': 400, 'quantity': 100},\n",
       " '1004': {'name': 'Soap', 'price': 50, 'quantity': 920},\n",
       " '1005': {'name': 'Hair Oil', 'price': 120, 'quantity': 125},\n",
       " '1006': {'name': 'Candy', 'price': 20, 'quantity': 1020},\n",
       " '1007': {'name': 'Drink', 'price': 65, 'quantity': 885},\n",
       " '1008': {'name': 'Pen', 'price': 10, 'quantity': 1900},\n",
       " '1009': {'name': 'Monitor', 'price': 4500, 'quantity': 150},\n",
       " '1010': {'name': 'Phone', 'price': 35000, 'quantity': 60},\n",
       " '1011': {'name': 'Airpods', 'price': 12399, 'quantity': 98},\n",
       " '1012': {'name': 'Keyboard', 'price': 699, 'quantity': 20},\n",
       " '1013': {'name': 'Bag', 'price': 420, 'quantity': 710},\n",
       " '1014': {'name': 'Bottle', 'price': 105, 'quantity': 965},\n",
       " '1015': {'name': 'Charger', 'price': 95, 'quantity': 230},\n",
       " '1017': {'name': 'Smart Watch', 'price': 3780, 'quantity': 46},\n",
       " '1018': {'name': 'Face Cream', 'price': 299, 'quantity': 104},\n",
       " '1019': {'name': 'Sponge', 'price': 79, 'quantity': 354},\n",
       " '1020': {'name': 'Makeup Kit', 'price': 810, 'quantity': 22},\n",
       " '1021': {'name': 'Shoes', 'price': 2899, 'quantity': 70},\n",
       " '1022': {'name': 'Shirt', 'price': 570, 'quantity': 400},\n",
       " '1023': {'name': 'Bracelet', 'price': 119, 'quantity': 900},\n",
       " '1024': {'name': 'Hair Brush', 'price': 260, 'quantity': 500},\n",
       " '1025': {'name': 'Coffee Mug', 'price': 185, 'quantity': 175},\n",
       " '1026': {'name': 'Air Conditioner', 'price': 42500, 'quantity': 6},\n",
       " '1027': {'name': 'Washing Machine', 'price': 15899, 'quantity': 3},\n",
       " '1028': {'name': 'Pillow', 'price': 975, 'quantity': 87},\n",
       " '1029': {'name': 'Curtains', 'price': 1199, 'quantity': 255},\n",
       " '1030': {'name': 'Bed Sheet', 'price': 320, 'quantity': 300},\n",
       " '1031': {'name': 'Novel', 'price': 529, 'quantity': 91},\n",
       " '1032': {'name': 'Spoon', 'price': 75, 'quantity': 220}}"
      ]
     },
     "execution_count": 20,
     "metadata": {},
     "output_type": "execute_result"
    }
   ],
   "source": [
    "products"
   ]
  },
  {
   "cell_type": "code",
   "execution_count": null,
   "id": "0463245f",
   "metadata": {},
   "outputs": [],
   "source": []
  }
 ],
 "metadata": {
  "kernelspec": {
   "display_name": "Python 3",
   "language": "python",
   "name": "python3"
  },
  "language_info": {
   "codemirror_mode": {
    "name": "ipython",
    "version": 3
   },
   "file_extension": ".py",
   "mimetype": "text/x-python",
   "name": "python",
   "nbconvert_exporter": "python",
   "pygments_lexer": "ipython3",
   "version": "3.8.8"
  }
 },
 "nbformat": 4,
 "nbformat_minor": 5
}
