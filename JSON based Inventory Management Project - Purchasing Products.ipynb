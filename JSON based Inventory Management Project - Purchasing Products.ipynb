{
 "cells": [
  {
   "cell_type": "markdown",
   "id": "75a2a0d2",
   "metadata": {},
   "source": [
    "# Read Inventory"
   ]
  },
  {
   "cell_type": "code",
   "execution_count": 58,
   "id": "e88d2463",
   "metadata": {},
   "outputs": [],
   "source": [
    "import json\n",
    "\n",
    "fd = open(\"products.json\",'r')\n",
    "r = fd.read()\n",
    "fd.close()\n",
    "\n",
    "product = json.loads(r)"
   ]
  },
  {
   "cell_type": "code",
   "execution_count": 59,
   "id": "1db70cae",
   "metadata": {},
   "outputs": [
    {
     "data": {
      "text/plain": [
       "{'1001': {'name': 'Chips', 'price': 30, 'quantity': 500},\n",
       " '1002': {'name': 'Chocolate', 'price': 80, 'quantity': 310},\n",
       " '1003': {'name': 'Cake', 'price': 400, 'quantity': 100},\n",
       " '1004': {'name': 'Soap', 'price': 50, 'quantity': 920},\n",
       " '1005': {'name': 'Hair Oil', 'price': 120, 'quantity': 125},\n",
       " '1006': {'name': 'Candy', 'price': 20, 'quantity': 1020},\n",
       " '1007': {'name': 'Drink', 'price': 65, 'quantity': 885},\n",
       " '1008': {'name': 'Pen', 'price': 10, 'quantity': 1900},\n",
       " '1009': {'name': 'Monitor', 'price': 4500, 'quantity': 150},\n",
       " '1010': {'name': 'Phone', 'price': 35000, 'quantity': 60},\n",
       " '1011': {'name': 'Airpods', 'price': 12399, 'quantity': 98},\n",
       " '1012': {'name': 'Keyboard', 'price': 699, 'quantity': 20},\n",
       " '1013': {'name': 'Bag', 'price': 420, 'quantity': 710},\n",
       " '1014': {'name': 'Bottle', 'price': 105, 'quantity': 965},\n",
       " '1015': {'name': 'Charger', 'price': 95, 'quantity': 230},\n",
       " '1016': {'name': 'Table Calendar', 'price': 49, 'quantity': 545},\n",
       " '1017': {'name': 'Smart Watch', 'price': 3780, 'quantity': 46},\n",
       " '1018': {'name': 'Face Cream', 'price': 299, 'quantity': 104},\n",
       " '1019': {'name': 'Sponge', 'price': 79, 'quantity': 354},\n",
       " '1020': {'name': 'Makeup Kit', 'price': 810, 'quantity': 22},\n",
       " '1021': {'name': 'Shoes', 'price': 2899, 'quantity': 70},\n",
       " '1022': {'name': 'Shirt', 'price': 570, 'quantity': 400},\n",
       " '1023': {'name': 'Bracelet', 'price': 119, 'quantity': 900},\n",
       " '1024': {'name': 'Hair Brush', 'price': 260, 'quantity': 500},\n",
       " '1025': {'name': 'Coffee Mug', 'price': 185, 'quantity': 175},\n",
       " '1026': {'name': 'Air Conditioner', 'price': 42500, 'quantity': 6},\n",
       " '1027': {'name': 'Washing Machine', 'price': 15899, 'quantity': 3},\n",
       " '1028': {'name': 'Pillow', 'price': 975, 'quantity': 87},\n",
       " '1029': {'name': 'Curtains', 'price': 1199, 'quantity': 255},\n",
       " '1030': {'name': 'Bed Sheet', 'price': 320, 'quantity': 300},\n",
       " '1031': {'name': 'Novel', 'price': 529, 'quantity': 91},\n",
       " '1032': {'name': 'Spoon', 'price': 75, 'quantity': 220}}"
      ]
     },
     "execution_count": 59,
     "metadata": {},
     "output_type": "execute_result"
    }
   ],
   "source": [
    "product"
   ]
  },
  {
   "cell_type": "markdown",
   "id": "d14a0a98",
   "metadata": {},
   "source": [
    "# Purchasing Products"
   ]
  },
  {
   "cell_type": "code",
   "execution_count": 60,
   "id": "df8703da",
   "metadata": {},
   "outputs": [
    {
     "name": "stdout",
     "output_type": "stream",
     "text": [
      "Enter the product Id: 1028\n",
      "Enter the quantity: 8\n",
      "Product Name:  Pillow\n",
      "Product Price:  975\n",
      "Billing Amount:  7800\n"
     ]
    }
   ],
   "source": [
    "ui_product  = input(\"Enter the product Id: \")\n",
    "ui_quantity = int(input(\"Enter the quantity: \"))\n",
    "\n",
    "\n",
    "print(\"Product Name: \", product[ui_product]['name'])\n",
    "print(\"Product Price: \", product[ui_product]['price'])\n",
    "print(\"Billing Amount: \", product[ui_product]['price'] * ui_quantity)\n",
    "\n",
    "product[ui_product]['quantity'] = product[ui_product]['quantity'] - ui_quantity"
   ]
  },
  {
   "cell_type": "code",
   "execution_count": 67,
   "id": "256b6082",
   "metadata": {},
   "outputs": [
    {
     "name": "stdout",
     "output_type": "stream",
     "text": [
      "Enter the product Id: 1011\n",
      "Enter the quantity: 19\n",
      "Product Name:  Airpods\n",
      "Product Price:  12399\n",
      "Billing Amount:  235581\n"
     ]
    }
   ],
   "source": [
    "ui_product2  = input(\"Enter the product Id: \")\n",
    "ui_quantity2 = int(input(\"Enter the quantity: \"))\n",
    "\n",
    "\n",
    "print(\"Product Name: \", product[ui_product2]['name'])\n",
    "print(\"Product Price: \", product[ui_product2]['price'])\n",
    "print(\"Billing Amount: \", product[ui_product2]['price'] * ui_quantity2)\n",
    "\n",
    "product[ui_product2]['quantity'] = product[ui_product2]['quantity'] - ui_quantity2"
   ]
  },
  {
   "cell_type": "code",
   "execution_count": 73,
   "id": "229b603e",
   "metadata": {},
   "outputs": [
    {
     "name": "stdout",
     "output_type": "stream",
     "text": [
      "Enter the product Id: 1002\n",
      "Enter the quantity: 200\n",
      "Product Name:  Chocolate\n",
      "Product Price:  80\n",
      "Billing Amount:  16000\n"
     ]
    }
   ],
   "source": [
    "ui_product3  = input(\"Enter the product Id: \")\n",
    "ui_quantity3 = int(input(\"Enter the quantity: \"))\n",
    "\n",
    "\n",
    "print(\"Product Name: \", product[ui_product3]['name'])\n",
    "print(\"Product Price: \", product[ui_product3]['price'])\n",
    "print(\"Billing Amount: \", product[ui_product3]['price'] * ui_quantity3)\n",
    "\n",
    "product[ui_product3]['quantity'] = product[ui_product3]['quantity'] - ui_quantity3"
   ]
  },
  {
   "cell_type": "code",
   "execution_count": 74,
   "id": "47b1d891",
   "metadata": {},
   "outputs": [
    {
     "name": "stdout",
     "output_type": "stream",
     "text": [
      "Enter the product Id: 1031\n",
      "Enter the quantity: 20\n",
      "Product Name:  Novel\n",
      "Product Price:  529\n",
      "Billing Amount:  10580\n"
     ]
    }
   ],
   "source": [
    "ui_product4  = input(\"Enter the product Id: \")\n",
    "ui_quantity4 = int(input(\"Enter the quantity: \"))\n",
    "\n",
    "\n",
    "print(\"Product Name: \", product[ui_product4]['name'])\n",
    "print(\"Product Price: \", product[ui_product4]['price'])\n",
    "print(\"Billing Amount: \", product[ui_product4]['price'] * ui_quantity4)\n",
    "\n",
    "product[ui_product4]['quantity'] = product[ui_product4]['quantity'] - ui_quantity4"
   ]
  },
  {
   "cell_type": "code",
   "execution_count": 75,
   "id": "4fd36d29",
   "metadata": {},
   "outputs": [
    {
     "name": "stdout",
     "output_type": "stream",
     "text": [
      "Enter the product Id: 1026\n",
      "Enter the quantity: 2\n",
      "Product Name:  Air Conditioner\n",
      "Product Price:  42500\n",
      "Billing Amount:  85000\n"
     ]
    }
   ],
   "source": [
    "ui_product5  = input(\"Enter the product Id: \")\n",
    "ui_quantity5 = int(input(\"Enter the quantity: \"))\n",
    "\n",
    "\n",
    "print(\"Product Name: \", product[ui_product5]['name'])\n",
    "print(\"Product Price: \", product[ui_product5]['price'])\n",
    "print(\"Billing Amount: \", product[ui_product5]['price'] * ui_quantity5)\n",
    "\n",
    "product[ui_product5]['quantity'] = product[ui_product5]['quantity'] - ui_quantity5"
   ]
  },
  {
   "cell_type": "code",
   "execution_count": 76,
   "id": "21970264",
   "metadata": {},
   "outputs": [
    {
     "name": "stdout",
     "output_type": "stream",
     "text": [
      "Enter the product Id: 1017\n",
      "Enter the quantity: 11\n",
      "Product Name:  Smart Watch\n",
      "Product Price:  3780\n",
      "Billing Amount:  41580\n"
     ]
    }
   ],
   "source": [
    "ui_product6  = input(\"Enter the product Id: \")\n",
    "ui_quantity6 = int(input(\"Enter the quantity: \"))\n",
    "\n",
    "\n",
    "print(\"Product Name: \", product[ui_product6]['name'])\n",
    "print(\"Product Price: \", product[ui_product6]['price'])\n",
    "print(\"Billing Amount: \", product[ui_product6]['price'] * ui_quantity6)\n",
    "\n",
    "product[ui_product6]['quantity'] = product[ui_product6]['quantity'] - ui_quantity6"
   ]
  },
  {
   "cell_type": "code",
   "execution_count": 77,
   "id": "533d0d30",
   "metadata": {},
   "outputs": [
    {
     "name": "stdout",
     "output_type": "stream",
     "text": [
      "Enter the product Id: 1006\n",
      "Enter the quantity: 487\n",
      "Product Name:  Candy\n",
      "Product Price:  20\n",
      "Billing Amount:  9740\n"
     ]
    }
   ],
   "source": [
    "ui_product7  = input(\"Enter the product Id: \")\n",
    "ui_quantity7 = int(input(\"Enter the quantity: \"))\n",
    "\n",
    "\n",
    "print(\"Product Name: \", product[ui_product7]['name'])\n",
    "print(\"Product Price: \", product[ui_product7]['price'])\n",
    "print(\"Billing Amount: \", product[ui_product7]['price'] * ui_quantity7)\n",
    "\n",
    "product[ui_product7]['quantity'] = product[ui_product7]['quantity'] - ui_quantity7"
   ]
  },
  {
   "cell_type": "code",
   "execution_count": 78,
   "id": "adb2009a",
   "metadata": {},
   "outputs": [
    {
     "name": "stdout",
     "output_type": "stream",
     "text": [
      "Enter the product Id: 1003\n",
      "Enter the quantity: 23\n",
      "Product Name:  Cake\n",
      "Product Price:  400\n",
      "Billing Amount:  9200\n"
     ]
    }
   ],
   "source": [
    "ui_product8  = input(\"Enter the product Id: \")\n",
    "ui_quantity8 = int(input(\"Enter the quantity: \"))\n",
    "\n",
    "\n",
    "print(\"Product Name: \", product[ui_product8]['name'])\n",
    "print(\"Product Price: \", product[ui_product8]['price'])\n",
    "print(\"Billing Amount: \", product[ui_product8]['price'] * ui_quantity8)\n",
    "\n",
    "product[ui_product8]['quantity'] = product[ui_product8]['quantity'] - ui_quantity8"
   ]
  },
  {
   "cell_type": "code",
   "execution_count": 79,
   "id": "8ca18d5a",
   "metadata": {},
   "outputs": [
    {
     "name": "stdout",
     "output_type": "stream",
     "text": [
      "Enter the product Id: 1023\n",
      "Enter the quantity: 39\n",
      "Product Name:  Bracelet\n",
      "Product Price:  119\n",
      "Billing Amount:  4641\n"
     ]
    }
   ],
   "source": [
    "ui_product9  = input(\"Enter the product Id: \")\n",
    "ui_quantity9 = int(input(\"Enter the quantity: \"))\n",
    "\n",
    "\n",
    "print(\"Product Name: \", product[ui_product9]['name'])\n",
    "print(\"Product Price: \", product[ui_product9]['price'])\n",
    "print(\"Billing Amount: \", product[ui_product9]['price'] * ui_quantity9)\n",
    "\n",
    "product[ui_product9]['quantity'] = product[ui_product9]['quantity'] - ui_quantity9"
   ]
  },
  {
   "cell_type": "code",
   "execution_count": 80,
   "id": "46608881",
   "metadata": {},
   "outputs": [
    {
     "name": "stdout",
     "output_type": "stream",
     "text": [
      "Enter the product Id: 1015\n",
      "Enter the quantity: 113\n",
      "Product Name:  Charger\n",
      "Product Price:  95\n",
      "Billing Amount:  10735\n"
     ]
    }
   ],
   "source": [
    "ui_product10  = input(\"Enter the product Id: \")\n",
    "ui_quantity10 = int(input(\"Enter the quantity: \"))\n",
    "\n",
    "\n",
    "print(\"Product Name: \", product[ui_product10]['name'])\n",
    "print(\"Product Price: \", product[ui_product10]['price'])\n",
    "print(\"Billing Amount: \", product[ui_product10]['price'] * ui_quantity10)\n",
    "\n",
    "product[ui_product10]['quantity'] = product[ui_product10]['quantity'] - ui_quantity10"
   ]
  },
  {
   "cell_type": "markdown",
   "id": "b23be5b6",
   "metadata": {},
   "source": [
    "# Updating Inventory after Purchase"
   ]
  },
  {
   "cell_type": "code",
   "execution_count": 81,
   "id": "851ea2f2",
   "metadata": {},
   "outputs": [],
   "source": [
    "js = json.dumps(product)\n",
    "\n",
    "fd = open(\"products.json\",'w')\n",
    "fd.write(js)\n",
    "fd.close()"
   ]
  },
  {
   "cell_type": "markdown",
   "id": "90937e57",
   "metadata": {},
   "source": [
    "# Sales JSON"
   ]
  },
  {
   "cell_type": "code",
   "execution_count": 82,
   "id": "2cabb9c9",
   "metadata": {},
   "outputs": [],
   "source": [
    "sales = {1:{'product' : ui_product, 'quantity' : ui_quantity, 'amount': product[ui_product]['price'] * ui_quantity},\n",
    "         2:{'product' : ui_product2, 'quantity' : ui_quantity2, 'amount': product[ui_product2]['price'] * ui_quantity2},\n",
    "         3:{'product' : ui_product3, 'quantity' : ui_quantity3, 'amount': product[ui_product3]['price'] * ui_quantity3},\n",
    "         4:{'product' : ui_product4, 'quantity' : ui_quantity4, 'amount': product[ui_product4]['price'] * ui_quantity4},\n",
    "         5:{'product' : ui_product5, 'quantity' : ui_quantity5, 'amount': product[ui_product5]['price'] * ui_quantity5},\n",
    "         6:{'product' : ui_product6, 'quantity' : ui_quantity6, 'amount': product[ui_product6]['price'] * ui_quantity6},\n",
    "         7:{'product' : ui_product7, 'quantity' : ui_quantity7, 'amount': product[ui_product7]['price'] * ui_quantity7},\n",
    "         8:{'product' : ui_product8, 'quantity' : ui_quantity8, 'amount': product[ui_product8]['price'] * ui_quantity8},\n",
    "         9:{'product' : ui_product9, 'quantity' : ui_quantity9, 'amount': product[ui_product9]['price'] * ui_quantity9},\n",
    "        10:{'product' : ui_product10, 'quantity' : ui_quantity10, 'amount': product[ui_product10]['price'] * ui_quantity10}}"
   ]
  },
  {
   "cell_type": "code",
   "execution_count": 83,
   "id": "4b49aa32",
   "metadata": {},
   "outputs": [],
   "source": [
    "sale = json.dumps(sales)\n",
    "\n",
    "fd = open(\"sale.json\",'w')\n",
    "fd.write(js)\n",
    "fd.close()"
   ]
  },
  {
   "cell_type": "code",
   "execution_count": 85,
   "id": "b4e48e54",
   "metadata": {},
   "outputs": [
    {
     "name": "stdout",
     "output_type": "stream",
     "text": [
      "{\"1\": {\"product\": \"1028\", \"quantity\": 8, \"amount\": 7800}, \"2\": {\"product\": \"1011\", \"quantity\": 19, \"amount\": 235581}, \"3\": {\"product\": \"1002\", \"quantity\": 200, \"amount\": 16000}, \"4\": {\"product\": \"1031\", \"quantity\": 20, \"amount\": 10580}, \"5\": {\"product\": \"1026\", \"quantity\": 2, \"amount\": 85000}, \"6\": {\"product\": \"1017\", \"quantity\": 11, \"amount\": 41580}, \"7\": {\"product\": \"1006\", \"quantity\": 487, \"amount\": 9740}, \"8\": {\"product\": \"1003\", \"quantity\": 23, \"amount\": 9200}, \"9\": {\"product\": \"1023\", \"quantity\": 39, \"amount\": 4641}, \"10\": {\"product\": \"1015\", \"quantity\": 113, \"amount\": 10735}}\n"
     ]
    }
   ],
   "source": [
    "print(sale)"
   ]
  },
  {
   "cell_type": "code",
   "execution_count": null,
   "id": "76037462",
   "metadata": {},
   "outputs": [],
   "source": []
  }
 ],
 "metadata": {
  "kernelspec": {
   "display_name": "Python 3",
   "language": "python",
   "name": "python3"
  },
  "language_info": {
   "codemirror_mode": {
    "name": "ipython",
    "version": 3
   },
   "file_extension": ".py",
   "mimetype": "text/x-python",
   "name": "python",
   "nbconvert_exporter": "python",
   "pygments_lexer": "ipython3",
   "version": "3.8.8"
  }
 },
 "nbformat": 4,
 "nbformat_minor": 5
}
